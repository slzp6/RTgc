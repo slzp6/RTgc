{
  "nbformat": 4,
  "nbformat_minor": 0,
  "metadata": {
    "colab": {
      "provenance": [],
      "collapsed_sections": [],
      "toc_visible": true
    },
    "kernelspec": {
      "name": "python3",
      "display_name": "Python 3"
    },
    "language_info": {
      "name": "python"
    }
  },
  "cells": [
    {
      "cell_type": "markdown",
      "source": [
        "# Google Colab を利用したPOV-Rayの実行"
      ],
      "metadata": {
        "id": "vTnZ6FofoHz9"
      }
    },
    {
      "cell_type": "markdown",
      "source": [
        "\n",
        "\n",
        "---\n",
        "\n",
        "\n",
        "# 実行例（ Hello, Sphere! ）\n",
        "- Google Colab を利用したPOV-Rayの実行例です。\n",
        "1. colabへ apt コマンドにより povray をインストールします。\n",
        "2. %%file を利用して、povファイルを作成します。\n",
        "3. !povray でpovファイルから画像(png)ファイルを作成します。 \n",
        "4. colabの左側のファイルメニューから画像をダウンロードできます。または、google.colab.filesのモジュールを利用したPythonのスクリプトでもダウンロードできます。"
      ],
      "metadata": {
        "id": "XuDUud4KztGJ"
      }
    },
    {
      "cell_type": "code",
      "source": [
        "!apt install povray"
      ],
      "metadata": {
        "id": "WtyylC22tq6T",
        "colab": {
          "base_uri": "https://localhost:8080/"
        },
        "outputId": "5616d367-d85f-4b1e-d1e2-2b493a87f23e"
      },
      "execution_count": 1,
      "outputs": [
        {
          "output_type": "stream",
          "name": "stdout",
          "text": [
            "Reading package lists... Done\n",
            "Building dependency tree       \n",
            "Reading state information... Done\n",
            "The following package was automatically installed and is no longer required:\n",
            "  libnvidia-common-460\n",
            "Use 'apt autoremove' to remove it.\n",
            "The following additional packages will be installed:\n",
            "  libsdl1.2debian povray-includes\n",
            "Suggested packages:\n",
            "  povray-doc povray-examples\n",
            "The following NEW packages will be installed:\n",
            "  libsdl1.2debian povray povray-includes\n",
            "0 upgraded, 3 newly installed, 0 to remove and 12 not upgraded.\n",
            "Need to get 1,723 kB of archives.\n",
            "After this operation, 5,791 kB of additional disk space will be used.\n",
            "Get:1 http://archive.ubuntu.com/ubuntu bionic-updates/main amd64 libsdl1.2debian amd64 1.2.15+dfsg2-0.1ubuntu0.2 [175 kB]\n",
            "Get:2 http://archive.ubuntu.com/ubuntu bionic/universe amd64 povray amd64 1:3.7.0.4-2 [1,284 kB]\n",
            "Get:3 http://archive.ubuntu.com/ubuntu bionic/universe amd64 povray-includes all 1:3.7.0.4-2 [264 kB]\n",
            "Fetched 1,723 kB in 1s (1,452 kB/s)\n",
            "Selecting previously unselected package libsdl1.2debian:amd64.\n",
            "(Reading database ... 123934 files and directories currently installed.)\n",
            "Preparing to unpack .../libsdl1.2debian_1.2.15+dfsg2-0.1ubuntu0.2_amd64.deb ...\n",
            "Unpacking libsdl1.2debian:amd64 (1.2.15+dfsg2-0.1ubuntu0.2) ...\n",
            "Selecting previously unselected package povray.\n",
            "Preparing to unpack .../povray_1%3a3.7.0.4-2_amd64.deb ...\n",
            "Unpacking povray (1:3.7.0.4-2) ...\n",
            "Selecting previously unselected package povray-includes.\n",
            "Preparing to unpack .../povray-includes_1%3a3.7.0.4-2_all.deb ...\n",
            "Unpacking povray-includes (1:3.7.0.4-2) ...\n",
            "Setting up libsdl1.2debian:amd64 (1.2.15+dfsg2-0.1ubuntu0.2) ...\n",
            "Setting up povray (1:3.7.0.4-2) ...\n",
            "Setting up povray-includes (1:3.7.0.4-2) ...\n",
            "Processing triggers for man-db (2.8.3-2ubuntu0.1) ...\n",
            "Processing triggers for libc-bin (2.27-3ubuntu1.6) ...\n"
          ]
        }
      ]
    },
    {
      "cell_type": "code",
      "source": [
        "%%file sphere.pov\n",
        "\n",
        "#version 3.7;\n",
        "global_settings { assumed_gamma 2.2 }\n",
        "\n",
        "camera{ \n",
        "  location <0.0, 0.0, -10.0> \n",
        "  look_at  <0.0, 0.0, 0.0>\n",
        "} \n",
        "\n",
        "light_source { \n",
        "  <5.0,5.0,-5.0> \n",
        "  color rgb <1.0, 1.0, 1.0>*2\n",
        "} \n",
        "\n",
        "sphere { \n",
        "  <0.0, 0.0 ,0.0>, 3.0  \n",
        "  pigment { rgb <0.0, 1.0, 0.0> }\n",
        "} "
      ],
      "metadata": {
        "id": "eGDcWz7IuMXs",
        "colab": {
          "base_uri": "https://localhost:8080/"
        },
        "outputId": "d357088d-c88a-48b8-88a6-5a9d25089bbd"
      },
      "execution_count": 2,
      "outputs": [
        {
          "output_type": "stream",
          "name": "stdout",
          "text": [
            "Writing sphere.pov\n"
          ]
        }
      ]
    },
    {
      "cell_type": "code",
      "source": [
        "!povray sphere.pov +FN +A +Q11"
      ],
      "metadata": {
        "id": "jWroy1UoumOg",
        "colab": {
          "base_uri": "https://localhost:8080/"
        },
        "outputId": "1f76f0ab-8a44-4509-fefb-77e626664a76"
      },
      "execution_count": 3,
      "outputs": [
        {
          "output_type": "stream",
          "name": "stdout",
          "text": [
            "povray: cannot open the user configuration file /root/.povray/3.7/povray.conf: No such file or directory\n",
            "Persistence of Vision(tm) Ray Tracer Version 3.7.0.4.unofficial (g++ 7 @\n",
            " x86_64-pc-linux-gnu)\n",
            "This is an unofficial version compiled by:\n",
            " Andreas Beckmann <anbe at debian dot org> for Debian <www.debian.org>\n",
            " The POV-Ray Team is not responsible for supporting this version.\n",
            "\n",
            "POV-Ray is based on DKBTrace 2.12 by David K. Buck & Aaron A. Collins\n",
            "Copyright 1991-2013 Persistence of Vision Raytracer Pty. Ltd.\n",
            "\n",
            "Primary POV-Ray 3.7 Architects/Developers: (Alphabetically)\n",
            "  Chris Cason         Thorsten Froehlich  Christoph Lipka   \n",
            "\n",
            "With Assistance From: (Alphabetically)\n",
            "  Nicolas Calimet     Jerome Grimbert     James Holsenback    Christoph Hormann \n",
            "  Nathan Kopp         Juha Nieminen     \n",
            "\n",
            "Past Contributors: (Alphabetically)\n",
            "  Steve Anger         Eric Barish         Dieter Bayer        David K. Buck     \n",
            "  Nicolas Calimet     Chris Cason         Aaron A. Collins    Chris Dailey      \n",
            "  Steve Demlow        Andreas Dilger      Alexander Enzmann   Dan Farmer        \n",
            "  Thorsten Froehlich  Mark Gordon         James Holsenback    Christoph Hormann \n",
            "  Mike Hough          Chris Huff          Kari Kivisalo       Nathan Kopp       \n",
            "  Lutz Kretzschmar    Christoph Lipka     Jochen Lippert      Pascal Massimino  \n",
            "  Jim McElhiney       Douglas Muir        Juha Nieminen       Ron Parker        \n",
            "  Bill Pulver         Eduard Schwan       Wlodzimierz Skiba   Robert Skinner    \n",
            "  Yvo Smellenbergh    Zsolt Szalavari     Scott Taylor        Massimo Valentini \n",
            "  Timothy Wegner      Drew Wells          Chris Young       \n",
            "\n",
            "Other contributors are listed in the documentation.\n",
            "\n",
            "Support libraries used by POV-Ray:\n",
            "  ZLib 1.2.11, Copyright 1995-2012 Jean-loup Gailly and Mark Adler\n",
            "  LibPNG 1.6.34, Copyright 1998-2012 Glenn Randers-Pehrson\n",
            "  LibJPEG 80, Copyright 1991-2013 Thomas G. Lane, Guido Vollbeding\n",
            "  LibTIFF 4.0.9, Copyright 1988-1997 Sam Leffler, 1991-1997 SGI\n",
            "  Boost 1.65, http://www.boost.org/\n",
            "  OpenEXR 2.2.0 and IlmBase 2.2.0, Copyright (c) 2002-2011 Industrial Light &\n",
            " Magic.\n",
            "\n",
            "Parser Options\n",
            "  Input file: sphere.pov\n",
            "  Remove bounds........On \n",
            "  Split unions.........Off\n",
            "  Library paths:\n",
            "    /usr/share/povray-3.7\n",
            "    /usr/share/povray-3.7/ini\n",
            "    /usr/share/povray-3.7/include\n",
            "  Clock value:    0.000  (Animation off)\n",
            "Image Output Options\n",
            "  Image resolution.....800 by 600 (rows 1 to 600, columns 1 to 800).\n",
            "  Output file..........sphere.png, 24 bpp PNG\n",
            "  Dithering............Off\n",
            "  Graphic display......On  (gamma: sRGB)\n",
            "  Mosaic preview.......Off\n",
            "  Continued trace......Off\n",
            "Information Output Options\n",
            "  All Streams to console..........On \n",
            "  Debug Stream to console.........On \n",
            "  Fatal Stream to console.........On \n",
            "  Render Stream to console........On \n",
            "  Statistics Stream to console....On \n",
            "  Warning Stream to console.......On \n",
            "==== [Parsing...] ==========================================================\n",
            "\u001b[1B\u001b[m\u001b[34m\u001b[40m : . : . : . : . : . : . : . : . : . : . : . : . : . : . : . : . : . : . : . : \u001b[H\u001b[m\u001b[m\u001b[37m\u001b[40m\u001b[32m\u001b[40m.\b\u001b[m\u001b[m\u001b[37m\u001b[40m----------------------------------------------------------------------------\n",
            "Parser Statistics\n",
            "----------------------------------------------------------------------------\n",
            "Finite Objects:            1\n",
            "Infinite Objects:          0\n",
            "Light Sources:             1\n",
            "Total:                     2\n",
            "----------------------------------------------------------------------------\n",
            "Parser Time\n",
            "  Parse Time:       0 hours  0 minutes  0 seconds (0.001 seconds)\n",
            "              using 1 thread(s) with 0.000 CPU-seconds total\n",
            "  Bounding Time:    0 hours  0 minutes  0 seconds (0.000 seconds)\n",
            "              using 1 thread(s) with 0.000 CPU-seconds total\n",
            "----------------------------------------------------------------------------\n",
            "Render Options\n",
            "  Quality:  9\n",
            "  Bounding boxes.......On   Bounding threshold: 3\n",
            "  Antialiasing.........On  (Method 1, Threshold 0.300, Depth 3, Jitter 1.00,\n",
            " Gamma 2.50)\n",
            "==== [Rendering...] ========================================================\n",
            "Rendered 480000 of 480000 pixels (100%)\n",
            "----------------------------------------------------------------------------\n",
            "Render Statistics\n",
            "Image Resolution 800 x 600\n",
            "----------------------------------------------------------------------------\n",
            "Pixels:           510200   Samples:            8127   Smpls/Pxl: 0.02\n",
            "Rays:             518327   Saved:                 0   Max Level: 1/5\n",
            "----------------------------------------------------------------------------\n",
            "Ray->Shape Intersection          Tests       Succeeded  Percentage\n",
            "----------------------------------------------------------------------------\n",
            "Sphere                          599502          161058     26.87\n",
            "----------------------------------------------------------------------------\n",
            "Shadow Ray Tests:             81175   Succeeded:                     0\n",
            "----------------------------------------------------------------------------\n",
            "----------------------------------------------------------------------------\n",
            "Render Time:\n",
            "  Photon Time:      No photons\n",
            "  Radiosity Time:   No radiosity\n",
            "  Trace Time:       0 hours  0 minutes  0 seconds (0.350 seconds)\n",
            "              using 2 thread(s) with 0.388 CPU-seconds total\n",
            "POV-Ray finished\n",
            "\n"
          ]
        }
      ]
    },
    {
      "cell_type": "code",
      "source": [
        "from google.colab import files\n",
        "files.download(\"sphere.png\")"
      ],
      "metadata": {
        "colab": {
          "base_uri": "https://localhost:8080/",
          "height": 17
        },
        "id": "3JIirj9a4iRt",
        "outputId": "53606aa4-2a7a-446f-9b04-2e8b9f41cfe4"
      },
      "execution_count": 4,
      "outputs": [
        {
          "output_type": "display_data",
          "data": {
            "text/plain": [
              "<IPython.core.display.Javascript object>"
            ],
            "application/javascript": [
              "\n",
              "    async function download(id, filename, size) {\n",
              "      if (!google.colab.kernel.accessAllowed) {\n",
              "        return;\n",
              "      }\n",
              "      const div = document.createElement('div');\n",
              "      const label = document.createElement('label');\n",
              "      label.textContent = `Downloading \"${filename}\": `;\n",
              "      div.appendChild(label);\n",
              "      const progress = document.createElement('progress');\n",
              "      progress.max = size;\n",
              "      div.appendChild(progress);\n",
              "      document.body.appendChild(div);\n",
              "\n",
              "      const buffers = [];\n",
              "      let downloaded = 0;\n",
              "\n",
              "      const channel = await google.colab.kernel.comms.open(id);\n",
              "      // Send a message to notify the kernel that we're ready.\n",
              "      channel.send({})\n",
              "\n",
              "      for await (const message of channel.messages) {\n",
              "        // Send a message to notify the kernel that we're ready.\n",
              "        channel.send({})\n",
              "        if (message.buffers) {\n",
              "          for (const buffer of message.buffers) {\n",
              "            buffers.push(buffer);\n",
              "            downloaded += buffer.byteLength;\n",
              "            progress.value = downloaded;\n",
              "          }\n",
              "        }\n",
              "      }\n",
              "      const blob = new Blob(buffers, {type: 'application/binary'});\n",
              "      const a = document.createElement('a');\n",
              "      a.href = window.URL.createObjectURL(blob);\n",
              "      a.download = filename;\n",
              "      div.appendChild(a);\n",
              "      a.click();\n",
              "      div.remove();\n",
              "    }\n",
              "  "
            ]
          },
          "metadata": {}
        },
        {
          "output_type": "display_data",
          "data": {
            "text/plain": [
              "<IPython.core.display.Javascript object>"
            ],
            "application/javascript": [
              "download(\"download_18b5a88c-1256-4921-9213-89cb7c14581d\", \"sphere.png\", 18120)"
            ]
          },
          "metadata": {}
        }
      ]
    },
    {
      "cell_type": "markdown",
      "source": [
        "\n",
        "\n",
        "---\n",
        "\n",
        "\n",
        "# 利用例\n",
        "- ls でファイルのリストを表示します。\n",
        "- ls -l でファイルの詳しいリストを表示します。\n",
        "- pwd 作業中のディレクトリを表示します。(print working directory)\n",
        "- !cat sphere.pov のコマンドでテキストファイルを表示できます。\n",
        "- コマンドラインのオプションで高画質のレンダリングが可能です。例： +Q11 Antialias=on Antialias_Threshold=0.0 Antialias_Depth=9 Jitter=On\n",
        "- 画像の縦横サイズ（ピクセル）をコマンドラインで指定できます。例： +H120 +W160\n",
        "- 作成された画像ファイルは google.colab のモジュールでダウンロードできます。\n",
        "- Pythonのスクリプト（OpenCVとMatplotlibを利用）で画像を表示できます。"
      ],
      "metadata": {
        "id": "ac_Us6je1cDJ"
      }
    },
    {
      "cell_type": "code",
      "source": [
        "!ls"
      ],
      "metadata": {
        "id": "RvlvKr1Z8fpy",
        "colab": {
          "base_uri": "https://localhost:8080/"
        },
        "outputId": "694dfda0-c758-46f3-c886-7df2d58b67a3"
      },
      "execution_count": 5,
      "outputs": [
        {
          "output_type": "stream",
          "name": "stdout",
          "text": [
            "sample_data  sphere.png  sphere.pov\n"
          ]
        }
      ]
    },
    {
      "cell_type": "code",
      "source": [
        "!ls -l"
      ],
      "metadata": {
        "id": "EGbK_8bc8i48",
        "colab": {
          "base_uri": "https://localhost:8080/"
        },
        "outputId": "261aadf6-4f3e-43fb-cf1a-ccffd6ffdd65"
      },
      "execution_count": 6,
      "outputs": [
        {
          "output_type": "stream",
          "name": "stdout",
          "text": [
            "total 28\n",
            "drwxr-xr-x 1 root root  4096 Oct  7 13:35 sample_data\n",
            "-rw-r--r-- 1 root root 18120 Oct 11 04:56 sphere.png\n",
            "-rw-r--r-- 1 root root   264 Oct 11 04:56 sphere.pov\n"
          ]
        }
      ]
    },
    {
      "cell_type": "code",
      "source": [
        "!pwd"
      ],
      "metadata": {
        "id": "umhcG-m38rCz",
        "colab": {
          "base_uri": "https://localhost:8080/"
        },
        "outputId": "5d07fc3a-e85b-4603-8a4a-9d2eba63de7b"
      },
      "execution_count": 7,
      "outputs": [
        {
          "output_type": "stream",
          "name": "stdout",
          "text": [
            "/content\n"
          ]
        }
      ]
    },
    {
      "cell_type": "code",
      "source": [
        "!cat sphere.pov"
      ],
      "metadata": {
        "id": "ZNuSw0P51piW",
        "colab": {
          "base_uri": "https://localhost:8080/"
        },
        "outputId": "eed568a0-812b-421b-ace9-62bdf7f8c966"
      },
      "execution_count": 8,
      "outputs": [
        {
          "output_type": "stream",
          "name": "stdout",
          "text": [
            "\n",
            "#version 3.7;\n",
            "global_settings { assumed_gamma 2.2 }\n",
            "\n",
            "camera{ \n",
            "  location <0.0, 0.0, -10.0> \n",
            "  look_at  <0.0, 0.0, 0.0>\n",
            "} \n",
            "\n",
            "light_source { \n",
            "  <5.0,5.0,-5.0> \n",
            "  color rgb <1.0, 1.0, 1.0>*2\n",
            "} \n",
            "\n",
            "sphere { \n",
            "  <0.0, 0.0 ,0.0>, 3.0  \n",
            "  pigment { rgb <0.0, 1.0, 0.0> }\n",
            "} \n"
          ]
        }
      ]
    },
    {
      "cell_type": "code",
      "source": [
        "!povray sphere.pov +Osphere_hd.png +Q11 Antialias=on Antialias_Threshold=0.0 Antialias_Depth=9 Jitter=On"
      ],
      "metadata": {
        "id": "uq6Wduhq2Ed1",
        "colab": {
          "base_uri": "https://localhost:8080/"
        },
        "outputId": "47447f87-2c15-4cdb-84c1-5dbd06fa5f34"
      },
      "execution_count": 9,
      "outputs": [
        {
          "output_type": "stream",
          "name": "stdout",
          "text": [
            "povray: cannot open the user configuration file /root/.povray/3.7/povray.conf: No such file or directory\n",
            "Persistence of Vision(tm) Ray Tracer Version 3.7.0.4.unofficial (g++ 7 @\n",
            " x86_64-pc-linux-gnu)\n",
            "This is an unofficial version compiled by:\n",
            " Andreas Beckmann <anbe at debian dot org> for Debian <www.debian.org>\n",
            " The POV-Ray Team is not responsible for supporting this version.\n",
            "\n",
            "POV-Ray is based on DKBTrace 2.12 by David K. Buck & Aaron A. Collins\n",
            "Copyright 1991-2013 Persistence of Vision Raytracer Pty. Ltd.\n",
            "\n",
            "Primary POV-Ray 3.7 Architects/Developers: (Alphabetically)\n",
            "  Chris Cason         Thorsten Froehlich  Christoph Lipka   \n",
            "\n",
            "With Assistance From: (Alphabetically)\n",
            "  Nicolas Calimet     Jerome Grimbert     James Holsenback    Christoph Hormann \n",
            "  Nathan Kopp         Juha Nieminen     \n",
            "\n",
            "Past Contributors: (Alphabetically)\n",
            "  Steve Anger         Eric Barish         Dieter Bayer        David K. Buck     \n",
            "  Nicolas Calimet     Chris Cason         Aaron A. Collins    Chris Dailey      \n",
            "  Steve Demlow        Andreas Dilger      Alexander Enzmann   Dan Farmer        \n",
            "  Thorsten Froehlich  Mark Gordon         James Holsenback    Christoph Hormann \n",
            "  Mike Hough          Chris Huff          Kari Kivisalo       Nathan Kopp       \n",
            "  Lutz Kretzschmar    Christoph Lipka     Jochen Lippert      Pascal Massimino  \n",
            "  Jim McElhiney       Douglas Muir        Juha Nieminen       Ron Parker        \n",
            "  Bill Pulver         Eduard Schwan       Wlodzimierz Skiba   Robert Skinner    \n",
            "  Yvo Smellenbergh    Zsolt Szalavari     Scott Taylor        Massimo Valentini \n",
            "  Timothy Wegner      Drew Wells          Chris Young       \n",
            "\n",
            "Other contributors are listed in the documentation.\n",
            "\n",
            "Support libraries used by POV-Ray:\n",
            "  ZLib 1.2.11, Copyright 1995-2012 Jean-loup Gailly and Mark Adler\n",
            "  LibPNG 1.6.34, Copyright 1998-2012 Glenn Randers-Pehrson\n",
            "  LibJPEG 80, Copyright 1991-2013 Thomas G. Lane, Guido Vollbeding\n",
            "  LibTIFF 4.0.9, Copyright 1988-1997 Sam Leffler, 1991-1997 SGI\n",
            "  Boost 1.65, http://www.boost.org/\n",
            "  OpenEXR 2.2.0 and IlmBase 2.2.0, Copyright (c) 2002-2011 Industrial Light &\n",
            " Magic.\n",
            "\n",
            "Parser Options\n",
            "  Input file: sphere.pov\n",
            "  Remove bounds........On \n",
            "  Split unions.........Off\n",
            "  Library paths:\n",
            "    /usr/share/povray-3.7\n",
            "    /usr/share/povray-3.7/ini\n",
            "    /usr/share/povray-3.7/include\n",
            "  Clock value:    0.000  (Animation off)\n",
            "Image Output Options\n",
            "  Image resolution.....800 by 600 (rows 1 to 600, columns 1 to 800).\n",
            "  Output file..........sphere_hd.png, 24 bpp PNG\n",
            "  Dithering............Off\n",
            "  Graphic display......On  (gamma: sRGB)\n",
            "  Mosaic preview.......Off\n",
            "  Continued trace......Off\n",
            "Information Output Options\n",
            "  All Streams to console..........On \n",
            "  Debug Stream to console.........On \n",
            "  Fatal Stream to console.........On \n",
            "  Render Stream to console........On \n",
            "  Statistics Stream to console....On \n",
            "  Warning Stream to console.......On \n",
            "==== [Parsing...] ==========================================================\n",
            "\u001b[1B\u001b[m\u001b[34m\u001b[40m : . : . : . : . : . : . : . : . : . : . : . : . : . : . : . : . : . : . : . : \u001b[H\u001b[m\u001b[m\u001b[37m\u001b[40m\u001b[32m\u001b[40m.\b\u001b[m\u001b[m\u001b[37m\u001b[40m----------------------------------------------------------------------------\n",
            "Parser Statistics\n",
            "----------------------------------------------------------------------------\n",
            "Finite Objects:            1\n",
            "Infinite Objects:          0\n",
            "Light Sources:             1\n",
            "Total:                     2\n",
            "----------------------------------------------------------------------------\n",
            "Parser Time\n",
            "  Parse Time:       0 hours  0 minutes  0 seconds (0.000 seconds)\n",
            "              using 1 thread(s) with 0.000 CPU-seconds total\n",
            "  Bounding Time:    0 hours  0 minutes  0 seconds (0.000 seconds)\n",
            "              using 1 thread(s) with 0.000 CPU-seconds total\n",
            "----------------------------------------------------------------------------\n",
            "Render Options\n",
            "  Quality:  9\n",
            "  Bounding boxes.......On   Bounding threshold: 3\n",
            "  Antialiasing.........On  (Method 1, Threshold 0.000, Depth 9, Jitter 1.00,\n",
            " Gamma 2.50)\n",
            "==== [Rendering...] ========================================================\n",
            "Rendered 480000 of 480000 pixels (100%)\n",
            "----------------------------------------------------------------------------\n",
            "Render Statistics\n",
            "Image Resolution 800 x 600\n",
            "----------------------------------------------------------------------------\n",
            "Pixels:           510200   Samples:        38880000   Smpls/Pxl: 76.21\n",
            "Rays:           39390200   Saved:                 0   Max Level: 1/5\n",
            "----------------------------------------------------------------------------\n",
            "Ray->Shape Intersection          Tests       Succeeded  Percentage\n",
            "----------------------------------------------------------------------------\n",
            "Sphere                        45347152        11992208     26.45\n",
            "----------------------------------------------------------------------------\n",
            "Shadow Ray Tests:           5956952   Succeeded:                     0\n",
            "----------------------------------------------------------------------------\n",
            "----------------------------------------------------------------------------\n",
            "Render Time:\n",
            "  Photon Time:      No photons\n",
            "  Radiosity Time:   No radiosity\n",
            "  Trace Time:       0 hours  0 minutes  9 seconds (9.808 seconds)\n",
            "              using 2 thread(s) with 17.803 CPU-seconds total\n",
            "POV-Ray finished\n",
            "\n"
          ]
        }
      ]
    },
    {
      "cell_type": "code",
      "source": [
        "!povray sphere.pov  +H120 +W160  +A +Q11 +FN"
      ],
      "metadata": {
        "id": "7UdsY5fG51vT",
        "colab": {
          "base_uri": "https://localhost:8080/"
        },
        "outputId": "91f24267-7b9f-4363-e463-6d1affe8a43f"
      },
      "execution_count": 10,
      "outputs": [
        {
          "output_type": "stream",
          "name": "stdout",
          "text": [
            "povray: cannot open the user configuration file /root/.povray/3.7/povray.conf: No such file or directory\n",
            "Persistence of Vision(tm) Ray Tracer Version 3.7.0.4.unofficial (g++ 7 @\n",
            " x86_64-pc-linux-gnu)\n",
            "This is an unofficial version compiled by:\n",
            " Andreas Beckmann <anbe at debian dot org> for Debian <www.debian.org>\n",
            " The POV-Ray Team is not responsible for supporting this version.\n",
            "\n",
            "POV-Ray is based on DKBTrace 2.12 by David K. Buck & Aaron A. Collins\n",
            "Copyright 1991-2013 Persistence of Vision Raytracer Pty. Ltd.\n",
            "\n",
            "Primary POV-Ray 3.7 Architects/Developers: (Alphabetically)\n",
            "  Chris Cason         Thorsten Froehlich  Christoph Lipka   \n",
            "\n",
            "With Assistance From: (Alphabetically)\n",
            "  Nicolas Calimet     Jerome Grimbert     James Holsenback    Christoph Hormann \n",
            "  Nathan Kopp         Juha Nieminen     \n",
            "\n",
            "Past Contributors: (Alphabetically)\n",
            "  Steve Anger         Eric Barish         Dieter Bayer        David K. Buck     \n",
            "  Nicolas Calimet     Chris Cason         Aaron A. Collins    Chris Dailey      \n",
            "  Steve Demlow        Andreas Dilger      Alexander Enzmann   Dan Farmer        \n",
            "  Thorsten Froehlich  Mark Gordon         James Holsenback    Christoph Hormann \n",
            "  Mike Hough          Chris Huff          Kari Kivisalo       Nathan Kopp       \n",
            "  Lutz Kretzschmar    Christoph Lipka     Jochen Lippert      Pascal Massimino  \n",
            "  Jim McElhiney       Douglas Muir        Juha Nieminen       Ron Parker        \n",
            "  Bill Pulver         Eduard Schwan       Wlodzimierz Skiba   Robert Skinner    \n",
            "  Yvo Smellenbergh    Zsolt Szalavari     Scott Taylor        Massimo Valentini \n",
            "  Timothy Wegner      Drew Wells          Chris Young       \n",
            "\n",
            "Other contributors are listed in the documentation.\n",
            "\n",
            "Support libraries used by POV-Ray:\n",
            "  ZLib 1.2.11, Copyright 1995-2012 Jean-loup Gailly and Mark Adler\n",
            "  LibPNG 1.6.34, Copyright 1998-2012 Glenn Randers-Pehrson\n",
            "  LibJPEG 80, Copyright 1991-2013 Thomas G. Lane, Guido Vollbeding\n",
            "  LibTIFF 4.0.9, Copyright 1988-1997 Sam Leffler, 1991-1997 SGI\n",
            "  Boost 1.65, http://www.boost.org/\n",
            "  OpenEXR 2.2.0 and IlmBase 2.2.0, Copyright (c) 2002-2011 Industrial Light &\n",
            " Magic.\n",
            "\n",
            "Parser Options\n",
            "  Input file: sphere.pov\n",
            "  Remove bounds........On \n",
            "  Split unions.........Off\n",
            "  Library paths:\n",
            "    /usr/share/povray-3.7\n",
            "    /usr/share/povray-3.7/ini\n",
            "    /usr/share/povray-3.7/include\n",
            "  Clock value:    0.000  (Animation off)\n",
            "Image Output Options\n",
            "  Image resolution.....160 by 120 (rows 1 to 120, columns 1 to 160).\n",
            "  Output file..........sphere.png, 24 bpp PNG\n",
            "  Dithering............Off\n",
            "  Graphic display......On  (gamma: sRGB)\n",
            "  Mosaic preview.......Off\n",
            "  Continued trace......Off\n",
            "Information Output Options\n",
            "  All Streams to console..........On \n",
            "  Debug Stream to console.........On \n",
            "  Fatal Stream to console.........On \n",
            "  Render Stream to console........On \n",
            "  Statistics Stream to console....On \n",
            "  Warning Stream to console.......On \n",
            "==== [Parsing...] ==========================================================\n",
            "\u001b[1B\u001b[36m\u001b[40m \u001b[30m\u001b[40mS\u001b[36m\u001b[40m;.\u001b[m\u001b[30m\u001b[40m\u001b[1mX\u001b[1B\b\b8\u001b[H\u001b[m\u001b[m\u001b[37m\u001b[40m----------------------------------------------------------------------------\n",
            "Parser Statistics\n",
            "----------------------------------------------------------------------------\n",
            "Finite Objects:            1\n",
            "Infinite Objects:          0\n",
            "Light Sources:             1\n",
            "Total:                     2\n",
            "----------------------------------------------------------------------------\n",
            "Parser Time\n",
            "  Parse Time:       0 hours  0 minutes  0 seconds (0.000 seconds)\n",
            "              using 1 thread(s) with 0.000 CPU-seconds total\n",
            "  Bounding Time:    0 hours  0 minutes  0 seconds (0.000 seconds)\n",
            "              using 1 thread(s) with 0.000 CPU-seconds total\n",
            "----------------------------------------------------------------------------\n",
            "Render Options\n",
            "  Quality:  9\n",
            "  Bounding boxes.......On   Bounding threshold: 3\n",
            "  Antialiasing.........On  (Method 1, Threshold 0.300, Depth 3, Jitter 1.00,\n",
            " Gamma 2.50)\n",
            "==== [Rendering...] ========================================================\n",
            "Rendered 19200 of 19200 pixels (100%)\n",
            "----------------------------------------------------------------------------\n",
            "Render Statistics\n",
            "Image Resolution 160 x 120\n",
            "----------------------------------------------------------------------------\n",
            "Pixels:            20440   Samples:            1683   Smpls/Pxl: 0.08\n",
            "Rays:              22123   Saved:                 0   Max Level: 1/5\n",
            "----------------------------------------------------------------------------\n",
            "Ray->Shape Intersection          Tests       Succeeded  Percentage\n",
            "----------------------------------------------------------------------------\n",
            "Sphere                           26023            7433     28.56\n",
            "----------------------------------------------------------------------------\n",
            "Shadow Ray Tests:              3900   Succeeded:                     0\n",
            "----------------------------------------------------------------------------\n",
            "----------------------------------------------------------------------------\n",
            "Render Time:\n",
            "  Photon Time:      No photons\n",
            "  Radiosity Time:   No radiosity\n",
            "  Trace Time:       0 hours  0 minutes  0 seconds (0.019 seconds)\n",
            "              using 2 thread(s) with 0.017 CPU-seconds total\n",
            "\u001b[5;33H\u001b[32m\u001b[40m t;\u001b[30m\u001b[42m8\u001b[32m\u001b[40m@\u001b[30m\u001b[42m%S\u001b[32m\u001b[42m\u001b[1m:\u001b[m\u001b[30m\u001b[42mt\u001b[32m\u001b[42m\u001b[1m.\u001b[m\u001b[30m\u001b[42mt\u001b[1m:\u001b[m\u001b[30m\u001b[42m88\u001b[32m\u001b[40mt;\u001b[6;29H;.\u001b[30m\u001b[42m88\u001b[1mt\u001b[m\u001b[30m\u001b[42mt\u001b[32m\u001b[42m\u001b[1mS;8X\u001b[m\u001b[32m\u001b[42mS@:% : ; :t\u001b[m\u001b[32m\u001b[42m\u001b[1m;\u001b[30m\u001b[42mS\u001b[m\u001b[32m\u001b[40m:\u001b[7;26H: ;:\u001b[30m\u001b[42m8\u001b[32m\u001b[40m@\u001b[30m\u001b[42m%X\u001b[1m;\u001b[m\u001b[30m\u001b[42m;\u001b[32m\u001b[42m\u001b[1mt;8S\u001b[m\u001b[32m\u001b[42m@8:S t % t % \u001b[m\u001b[32m\u001b[42m\u001b[1m%\u001b[m\u001b[30m\u001b[42mS\u001b[8;26H\u001b[32m\u001b[40m:S.\u001b[30m\u001b[42m8\u001b[32m\u001b[40m8\u001b[30m\u001b[42m\u001b[1m%\u001b[m\u001b[30m\u001b[42m8\u001b[1mX\u001b[m\u001b[30m\u001b[42m;\u001b[32m\u001b[42m\u001b[1m; 8S\u001b[m\u001b[32m\u001b[42m8\u001b[m\u001b[32m\u001b[42m\u001b[1m8\u001b[m\u001b[32m\u001b[42m;X.% . ; . ; .t\u001b[m\u001b[32m\u001b[40m8\u001b[9;23H t ; t @S\u001b[30m\u001b[42mX\u001b[32m\u001b[40m8\u001b[30m\u001b[42mtS\u001b[1m:\u001b[m\u001b[30m\u001b[42mt\u001b[32m\u001b[42m\u001b[1m;:8%\u001b[m\u001b[32m\u001b[42m8\u001b[m\u001b[32m\u001b[42m\u001b[1m8\u001b[m\u001b[32m\u001b[42m%8;% S.% S.% \u001b[m\u001b[30m\u001b[42mt\u001b[10;22H\u001b[32m\u001b[40m S.% X.S;\u001b[30m\u001b[42m8\u001b[32m\u001b[40m@\u001b[30m\u001b[42mX8\u001b[1mS\u001b[m\u001b[30m\u001b[42m%\u001b[1mt\u001b[m\u001b[30m\u001b[42m:\u001b[32m\u001b[42m\u001b[1mS;8%\u001b[m\u001b[32m\u001b[42mX\u001b[m\u001b[32m\u001b[42m\u001b[1m8\u001b[m\u001b[32m\u001b[42mS8.% t : ; : \u001b[m\u001b[32m\u001b[42m\u001b[1m.\u001b[11;22H\u001b[m\u001b[32m\u001b[40mt ; % ; % X%\u001b[30m\u001b[42m8\u001b[32m\u001b[40m@\u001b[30m\u001b[42mS@\u001b[1m;\u001b[m\u001b[30m\u001b[42mS\u001b[32m\u001b[42m\u001b[1m.\u001b[m\u001b[30m\u001b[42m.\u001b[32m\u001b[42m\u001b[1mS.@%\u001b[m\u001b[32m\u001b[42m8\u001b[m\u001b[32m\u001b[42m\u001b[1mX\u001b[m\u001b[32m\u001b[42m@8t8;S S.% \u001b[m\u001b[32m\u001b[40m;\u001b[12;22H:S.\u001b[30m\u001b[40m\u001b[1mX\u001b[m\u001b[32m\u001b[40m:S.\u001b[30m\u001b[40m\u001b[1mX\u001b[m\u001b[32m\u001b[40m:S:8S\u001b[30m\u001b[42m8\u001b[32m\u001b[40m8\u001b[30m\u001b[42m\u001b[1mX\u001b[m\u001b[30m\u001b[42m@\u001b[1m%\u001b[m\u001b[30m\u001b[42m%\u001b[1mX\u001b[m\u001b[30m\u001b[42m.\u001b[32m\u001b[42m\u001b[1m%.8%8S\u001b[m\u001b[32m\u001b[42mX\u001b[m\u001b[32m\u001b[42m\u001b[1m8\u001b[m\u001b[32m\u001b[42mS8;X;@.@\u001b[m\u001b[30m\u001b[42m\u001b[1m%\u001b[13;22H\u001b[m\u001b[32m\u001b[40m: t ; t ; t t.@;8@\u001b[30m\u001b[42mS\u001b[32m\u001b[40m8\u001b[30m\u001b[42mtX\u001b[1m:\u001b[m\u001b[30m\u001b[42m%\u001b[32m\u001b[42m\u001b[1m.\u001b[m\u001b[30m\u001b[42m.\u001b[32m\u001b[42m\u001b[1m%\u001b[m\u001b[30m\u001b[42m \u001b[32m\u001b[42m\u001b[1mS;8;8S\u001b[m\u001b[32m\u001b[42m8\u001b[m\u001b[32m\u001b[42m\u001b[1mt@\u001b[m\u001b[32m\u001b[40m:\u001b[14;22H X.% X.% X.% X:X;\u001b[30m\u001b[42m8\u001b[32m\u001b[40m@\u001b[30m\u001b[42mX\u001b[32m\u001b[40m8\u001b[30m\u001b[42m\u001b[1mS\u001b[m\u001b[30m\u001b[42mX\u001b[1mt\u001b[m\u001b[30m\u001b[42mS\u001b[1mS\u001b[m\u001b[30m\u001b[42m;\u001b[1mt\u001b[m\u001b[30m\u001b[42m:\u001b[32m\u001b[42m\u001b[1m%.% X:%\u001b[m\u001b[30m\u001b[42m@\u001b[15;23H\u001b[32m\u001b[40m ; % ; % ; % ; % %:8t8X\u001b[30m\u001b[42mX\u001b[32m\u001b[40m@\u001b[30m\u001b[42mX8\u001b[1m;\u001b[m\u001b[30m\u001b[42m8tX\u001b[1m;\u001b[m\u001b[30m\u001b[42m8t\u001b[32m\u001b[40mX:\u001b[16;24H \u001b[30m\u001b[40m\u001b[1mX\u001b[m\u001b[32m\u001b[40m:S.\u001b[30m\u001b[40m\u001b[1mX\u001b[m\u001b[32m\u001b[40m:S.\u001b[30m\u001b[40m\u001b[1mX\u001b[m\u001b[32m\u001b[40m:S.\u001b[30m\u001b[40m\u001b[1mX\u001b[m\u001b[32m\u001b[40m:S.\u001b[30m\u001b[40m\u001b[1mX\u001b[m\u001b[32m\u001b[40m:X:8S\u001b[30m\u001b[42m8\u001b[32m\u001b[40mS\u001b[30m\u001b[42m\u001b[1mX\u001b[m\u001b[32m\u001b[40m8\u001b[30m\u001b[42m@\u001b[32m\u001b[40m@\u001b[30m\u001b[42m\u001b[1mX\u001b[m\u001b[32m\u001b[40m8\u001b[30m\u001b[42m8\u001b[32m\u001b[40m.\u001b[17;26H. t ; t ; t ; t ; t ; t ; % . \u001b[18;28H t S.% X.% X.% X.% X.% % \u001b[19;32H. ; : t ; t : ; .\u001b[H\u001b[m\u001b[m\u001b[37m\u001b[40mPOV-Ray finished\n",
            "\n"
          ]
        }
      ]
    },
    {
      "cell_type": "code",
      "source": [
        "from google.colab import files\n",
        "files.download(\"sphere.png\")"
      ],
      "metadata": {
        "id": "otmFlccF3lHI",
        "colab": {
          "base_uri": "https://localhost:8080/",
          "height": 17
        },
        "outputId": "304004d9-f57e-4cb0-eea3-f8245aa0d463"
      },
      "execution_count": 11,
      "outputs": [
        {
          "output_type": "display_data",
          "data": {
            "text/plain": [
              "<IPython.core.display.Javascript object>"
            ],
            "application/javascript": [
              "\n",
              "    async function download(id, filename, size) {\n",
              "      if (!google.colab.kernel.accessAllowed) {\n",
              "        return;\n",
              "      }\n",
              "      const div = document.createElement('div');\n",
              "      const label = document.createElement('label');\n",
              "      label.textContent = `Downloading \"${filename}\": `;\n",
              "      div.appendChild(label);\n",
              "      const progress = document.createElement('progress');\n",
              "      progress.max = size;\n",
              "      div.appendChild(progress);\n",
              "      document.body.appendChild(div);\n",
              "\n",
              "      const buffers = [];\n",
              "      let downloaded = 0;\n",
              "\n",
              "      const channel = await google.colab.kernel.comms.open(id);\n",
              "      // Send a message to notify the kernel that we're ready.\n",
              "      channel.send({})\n",
              "\n",
              "      for await (const message of channel.messages) {\n",
              "        // Send a message to notify the kernel that we're ready.\n",
              "        channel.send({})\n",
              "        if (message.buffers) {\n",
              "          for (const buffer of message.buffers) {\n",
              "            buffers.push(buffer);\n",
              "            downloaded += buffer.byteLength;\n",
              "            progress.value = downloaded;\n",
              "          }\n",
              "        }\n",
              "      }\n",
              "      const blob = new Blob(buffers, {type: 'application/binary'});\n",
              "      const a = document.createElement('a');\n",
              "      a.href = window.URL.createObjectURL(blob);\n",
              "      a.download = filename;\n",
              "      div.appendChild(a);\n",
              "      a.click();\n",
              "      div.remove();\n",
              "    }\n",
              "  "
            ]
          },
          "metadata": {}
        },
        {
          "output_type": "display_data",
          "data": {
            "text/plain": [
              "<IPython.core.display.Javascript object>"
            ],
            "application/javascript": [
              "download(\"download_b9d1bb33-fa73-4f59-b20b-d2e67e0c6781\", \"sphere.png\", 2306)"
            ]
          },
          "metadata": {}
        }
      ]
    },
    {
      "cell_type": "code",
      "source": [
        "import cv2\n",
        "import matplotlib.pyplot as plt\n",
        "\n",
        "def pshow(filename):\n",
        "    im = cv2.imread(filename)\n",
        "    plt.imshow(cv2.cvtColor(im, cv2.COLOR_BGR2RGB))\n",
        "    plt.show()\n",
        "\n",
        "pshow('sphere.png')"
      ],
      "metadata": {
        "id": "e1hrjVUWULxQ",
        "colab": {
          "base_uri": "https://localhost:8080/",
          "height": 268
        },
        "outputId": "8cb07107-3a7b-4246-82be-ea8c5b487b87"
      },
      "execution_count": 12,
      "outputs": [
        {
          "output_type": "display_data",
          "data": {
            "text/plain": [
              "<Figure size 432x288 with 1 Axes>"
            ],
            "image/png": "[encoded data removed]"
          },
          "metadata": {
            "needs_background": "light"
          }
        }
      ]
    },
    {
      "cell_type": "markdown",
      "source": [
        "\n",
        "\n",
        "---\n",
        "\n",
        "\n",
        "# 色や材質のリスト\n",
        "## 色、テクスチャ、石、木、金属\n",
        "- colors.inc http://compsci.world.coocan.jp/OUJ/povtl/colors/index.html\n",
        "- textures.inc http://compsci.world.coocan.jp/OUJ/povtl/textures/index.html\n",
        "- stones.inc http://compsci.world.coocan.jp/OUJ/povtl/stones/index.html\n",
        "- woods.inc http://compsci.world.coocan.jp/OUJ/povtl/woods/index.html\n",
        "- metals.inc http://compsci.world.coocan.jp/OUJ/povtl/metals/index.html\n",
        "\n",
        "## ガラス、旧ガラス\n",
        "- glass.inc (gcff) http://compsci.world.coocan.jp/OUJ/povml/gcff/index.html\n",
        "- glass.inc (gcwt) http://compsci.world.coocan.jp/OUJ/povml/gcwt/index.html\n"
      ],
      "metadata": {
        "id": "NfuvzPpA_ZfB"
      }
    },
    {
      "cell_type": "markdown",
      "source": [
        "\n",
        "\n",
        "---\n",
        "\n",
        "\n",
        " 10/2022 MTS"
      ],
      "metadata": {
        "id": "B6wVOh959NVe"
      }
    }
  ]
}