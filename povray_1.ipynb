{
  "nbformat": 4,
  "nbformat_minor": 0,
  "metadata": {
    "colab": {
      "provenance": [],
      "collapsed_sections": []
    },
    "kernelspec": {
      "name": "python3",
      "display_name": "Python 3"
    },
    "language_info": {
      "name": "python"
    }
  },
  "cells": [
    {
      "cell_type": "markdown",
      "source": [
        "# POV_Ray 1"
      ],
      "metadata": {
        "id": "RGdWolywg4i7"
      }
    },
    {
      "cell_type": "markdown",
      "source": [
        "\n",
        "\n",
        "---\n",
        "\n",
        "\n",
        "# POV-Rayの準備\n",
        "0. povrayをaptコマンドでインストールします。"
      ],
      "metadata": {
        "id": "KZhQIS_Jhir1"
      }
    },
    {
      "cell_type": "code",
      "execution_count": 1,
      "metadata": {
        "id": "QOw177hHg3VC",
        "colab": {
          "base_uri": "https://localhost:8080/"
        },
        "outputId": "e145c059-6749-4031-b93d-7519f6ac44bd"
      },
      "outputs": [
        {
          "output_type": "stream",
          "name": "stdout",
          "text": [
            "Reading package lists... Done\n",
            "Building dependency tree       \n",
            "Reading state information... Done\n",
            "The following package was automatically installed and is no longer required:\n",
            "  libnvidia-common-460\n",
            "Use 'apt autoremove' to remove it.\n",
            "The following additional packages will be installed:\n",
            "  libsdl1.2debian povray-includes\n",
            "Suggested packages:\n",
            "  povray-doc povray-examples\n",
            "The following NEW packages will be installed:\n",
            "  libsdl1.2debian povray povray-includes\n",
            "0 upgraded, 3 newly installed, 0 to remove and 27 not upgraded.\n",
            "Need to get 1,723 kB of archives.\n",
            "After this operation, 5,791 kB of additional disk space will be used.\n",
            "Get:1 http://archive.ubuntu.com/ubuntu bionic-updates/main amd64 libsdl1.2debian amd64 1.2.15+dfsg2-0.1ubuntu0.2 [175 kB]\n",
            "Get:2 http://archive.ubuntu.com/ubuntu bionic/universe amd64 povray amd64 1:3.7.0.4-2 [1,284 kB]\n",
            "Get:3 http://archive.ubuntu.com/ubuntu bionic/universe amd64 povray-includes all 1:3.7.0.4-2 [264 kB]\n",
            "Fetched 1,723 kB in 1s (1,927 kB/s)\n",
            "Selecting previously unselected package libsdl1.2debian:amd64.\n",
            "(Reading database ... 123942 files and directories currently installed.)\n",
            "Preparing to unpack .../libsdl1.2debian_1.2.15+dfsg2-0.1ubuntu0.2_amd64.deb ...\n",
            "Unpacking libsdl1.2debian:amd64 (1.2.15+dfsg2-0.1ubuntu0.2) ...\n",
            "Selecting previously unselected package povray.\n",
            "Preparing to unpack .../povray_1%3a3.7.0.4-2_amd64.deb ...\n",
            "Unpacking povray (1:3.7.0.4-2) ...\n",
            "Selecting previously unselected package povray-includes.\n",
            "Preparing to unpack .../povray-includes_1%3a3.7.0.4-2_all.deb ...\n",
            "Unpacking povray-includes (1:3.7.0.4-2) ...\n",
            "Setting up libsdl1.2debian:amd64 (1.2.15+dfsg2-0.1ubuntu0.2) ...\n",
            "Setting up povray (1:3.7.0.4-2) ...\n",
            "Setting up povray-includes (1:3.7.0.4-2) ...\n",
            "Processing triggers for man-db (2.8.3-2ubuntu0.1) ...\n",
            "Processing triggers for libc-bin (2.27-3ubuntu1.6) ...\n"
          ]
        }
      ],
      "source": [
        "!apt install povray"
      ]
    },
    {
      "cell_type": "markdown",
      "source": [
        "1. POV-Rayで生成した画像を表示する関数(pshow)を準備します。\n",
        "使用例： pshow('sample.png')\n",
        "\n"
      ],
      "metadata": {
        "id": "91ozAx2SiffB"
      }
    },
    {
      "cell_type": "code",
      "source": [
        "import cv2\n",
        "import matplotlib.pyplot as plt\n",
        "\n",
        "def pshow(filename):\n",
        "    im = cv2.imread(filename)\n",
        "    plt.imshow(cv2.cvtColor(im, cv2.COLOR_BGR2RGB))\n",
        "    plt.show()"
      ],
      "metadata": {
        "id": "tLGN__QoicO5"
      },
      "execution_count": 2,
      "outputs": []
    },
    {
      "cell_type": "markdown",
      "source": [
        "\n",
        "\n",
        "---\n",
        "\n"
      ],
      "metadata": {
        "id": "v159VWgKi7ad"
      }
    },
    {
      "cell_type": "markdown",
      "source": [
        "# １章"
      ],
      "metadata": {
        "id": "PxHxh5_5jAQT"
      }
    },
    {
      "cell_type": "code",
      "source": [
        "%%file 1_sample.pov\n",
        "//  1_sample.pov\n",
        "  \n",
        "camera{ \n",
        "  location <0.0, 0.0, -10.0> \n",
        "  look_at  <0.0, 0.0, 0.0>\n",
        "} \n",
        "\n",
        "light_source { \n",
        "  <5.0,5.0,-5.0> \n",
        "  color rgb <1.0, 1.0, 1.0>\n",
        "} \n",
        "\n",
        "sphere { <0.0, 0.0 ,0.0>, 2.0  \n",
        "  pigment { rgb <0.0, 1.0, 0.0> }\n",
        "} "
      ],
      "metadata": {
        "colab": {
          "base_uri": "https://localhost:8080/"
        },
        "id": "ONCnyX_whyPb",
        "outputId": "f9a8ebae-967b-4067-9858-f46c9f2a9a77"
      },
      "execution_count": 3,
      "outputs": [
        {
          "output_type": "stream",
          "name": "stdout",
          "text": [
            "Writing 1_sample.pov\n"
          ]
        }
      ]
    },
    {
      "cell_type": "code",
      "source": [
        "!povray 1_sample.pov +Q11 +A +FN +H240 +W320 &> /dev/null"
      ],
      "metadata": {
        "id": "szHbXHvWiIpL"
      },
      "execution_count": 4,
      "outputs": []
    },
    {
      "cell_type": "code",
      "source": [
        "pshow('1_sample.png')"
      ],
      "metadata": {
        "colab": {
          "base_uri": "https://localhost:8080/",
          "height": 269
        },
        "id": "7Hlb3ZvXjKN3",
        "outputId": "f591c0e3-c975-4c0e-ffc6-7f4e06c28f74"
      },
      "execution_count": 5,
      "outputs": [
        {
          "output_type": "display_data",
          "data": {
            "text/plain": [
              "<Figure size 432x288 with 1 Axes>"
            ],
            "image/png": "[encoded data removed]"
          },
          "metadata": {
            "needs_background": "light"
          }
        }
      ]
    },
    {
      "cell_type": "markdown",
      "source": [
        "\n",
        "\n",
        "---\n",
        "\n"
      ],
      "metadata": {
        "id": "kWn9X2_zkYr9"
      }
    },
    {
      "cell_type": "code",
      "source": [
        "%%file 1_sphere1.pov\n",
        "//  1_sphere1.pov\n",
        "  \n",
        "camera{ \n",
        "  location <0.0, 0.0, -10.0> \n",
        "  look_at  <0.0, 0.0, 0.0>\n",
        "} \n",
        "\n",
        "light_source { \n",
        "  <5.0,5.0,-5.0> \n",
        "  color rgb <1.0, 1.0, 1.0>\n",
        "} \n",
        "\n",
        "sphere { \n",
        "  <0.0, 0.0 ,0.0>, 3.0  \n",
        "  pigment { rgb <1.0, 0.0, 0.0> }\n",
        "} "
      ],
      "metadata": {
        "colab": {
          "base_uri": "https://localhost:8080/"
        },
        "id": "cW6PtDvwjqof",
        "outputId": "5b136ab3-67c0-4bc0-a786-2d0fdc9f4c98"
      },
      "execution_count": 6,
      "outputs": [
        {
          "output_type": "stream",
          "name": "stdout",
          "text": [
            "Writing 1_sphere1.pov\n"
          ]
        }
      ]
    },
    {
      "cell_type": "code",
      "source": [
        "!povray 1_sphere1.pov +Q11 +A +FN +H240 +W320 &> /dev/null"
      ],
      "metadata": {
        "id": "3LRSgTKbjz32"
      },
      "execution_count": 7,
      "outputs": []
    },
    {
      "cell_type": "code",
      "source": [
        "pshow('1_sphere1.png')"
      ],
      "metadata": {
        "colab": {
          "base_uri": "https://localhost:8080/",
          "height": 269
        },
        "id": "DfdSSgn-j32-",
        "outputId": "1d6adcea-8435-47a1-dbc9-de46613f29be"
      },
      "execution_count": 8,
      "outputs": [
        {
          "output_type": "display_data",
          "data": {
            "text/plain": [
              "<Figure size 432x288 with 1 Axes>"
            ],
            "image/png": "[encoded data removed]"
          },
          "metadata": {
            "needs_background": "light"
          }
        }
      ]
    },
    {
      "cell_type": "markdown",
      "source": [
        "\n",
        "\n",
        "---\n",
        "\n"
      ],
      "metadata": {
        "id": "XWEUs_70kdin"
      }
    },
    {
      "cell_type": "code",
      "source": [
        "%%file 1_sphere2.pov\n",
        "//  1_sphere2.pov\n",
        "  \n",
        "camera{ \n",
        "  location <0.0, 0.0, -10.0> \n",
        "  look_at  <0.0, 0.0, 0.0>\n",
        "} \n",
        "\n",
        "light_source { \n",
        "  <5.0,5.0,-5.0> \n",
        "  color rgb <1.0, 1.0, 1.0>\n",
        "} \n",
        "\n",
        "sphere { \n",
        "  <3.0, 0.0 ,0.0>, 2.0 \n",
        "  pigment { rgb <0.0, 1.0, 0.0> }\n",
        "} "
      ],
      "metadata": {
        "colab": {
          "base_uri": "https://localhost:8080/"
        },
        "id": "QCW_03iRkByC",
        "outputId": "0f033285-5561-4998-8940-0ee05756fcf8"
      },
      "execution_count": 9,
      "outputs": [
        {
          "output_type": "stream",
          "name": "stdout",
          "text": [
            "Writing 1_sphere2.pov\n"
          ]
        }
      ]
    },
    {
      "cell_type": "code",
      "source": [
        "!povray 1_sphere2.pov +Q11 +A +FN +H240 +W320 &> /dev/null"
      ],
      "metadata": {
        "id": "YTWvo2G1kL6n"
      },
      "execution_count": 10,
      "outputs": []
    },
    {
      "cell_type": "code",
      "source": [
        "pshow('1_sphere2.png')"
      ],
      "metadata": {
        "colab": {
          "base_uri": "https://localhost:8080/",
          "height": 269
        },
        "id": "G49SR51dkO_9",
        "outputId": "e2493b5a-76ec-43e8-a7c6-6c6c5faccad2"
      },
      "execution_count": 11,
      "outputs": [
        {
          "output_type": "display_data",
          "data": {
            "text/plain": [
              "<Figure size 432x288 with 1 Axes>"
            ],
            "image/png": "[encoded data removed]"
          },
          "metadata": {
            "needs_background": "light"
          }
        }
      ]
    },
    {
      "cell_type": "markdown",
      "source": [
        "\n",
        "\n",
        "---\n",
        "\n"
      ],
      "metadata": {
        "id": "K9QqQja5kgId"
      }
    },
    {
      "cell_type": "code",
      "source": [
        "%%file 1_sphere3.pov\n",
        "//  1_sphere3.pov\n",
        "  \n",
        "camera{ \n",
        "  location <0.0, 0.0, -10.0> \n",
        "  look_at  <0.0, 0.0, 0.0>\n",
        "} \n",
        "\n",
        "light_source { \n",
        "  <5.0,5.0,-5.0> \n",
        "  color rgb <1.0, 1.0, 1.0>\n",
        "} \n",
        "\n",
        "sphere { \n",
        "  <0.0, 0.0 ,0.0>, 2.0 \n",
        "  pigment { rgb <1.0, 0.0, 0.0> }\n",
        "}    \n",
        "\n",
        "sphere { \n",
        "  <-4.0, 0.0 ,0.0>, 2.0  \n",
        "  pigment { rgb <0.0, 1.0, 0.0> }\n",
        "} \n",
        "\n",
        "sphere { \n",
        "  <4.0, 0.0 ,0.0>, 2.0  \n",
        "  pigment { rgb <0.0, 0.0, 1.0> }\n",
        "} "
      ],
      "metadata": {
        "colab": {
          "base_uri": "https://localhost:8080/"
        },
        "id": "lf4iO1a0kTlj",
        "outputId": "3c6ddc8f-22e3-4147-e8df-331519f4d62d"
      },
      "execution_count": 12,
      "outputs": [
        {
          "output_type": "stream",
          "name": "stdout",
          "text": [
            "Writing 1_sphere3.pov\n"
          ]
        }
      ]
    },
    {
      "cell_type": "code",
      "source": [
        "!povray 1_sphere3.pov +Q11 +A +FN +H240 +W320 &> /dev/null"
      ],
      "metadata": {
        "id": "w3_ugTsJkTcf"
      },
      "execution_count": 13,
      "outputs": []
    },
    {
      "cell_type": "code",
      "source": [
        "pshow('1_sphere3.png')"
      ],
      "metadata": {
        "colab": {
          "base_uri": "https://localhost:8080/",
          "height": 269
        },
        "id": "-IF-JisakTQR",
        "outputId": "33035f8d-c7e0-4aec-cd27-5d7f48504a47"
      },
      "execution_count": 14,
      "outputs": [
        {
          "output_type": "display_data",
          "data": {
            "text/plain": [
              "<Figure size 432x288 with 1 Axes>"
            ],
            "image/png": "[encoded data removed]"
          },
          "metadata": {
            "needs_background": "light"
          }
        }
      ]
    },
    {
      "cell_type": "markdown",
      "source": [
        "\n",
        "\n",
        "---\n",
        "\n"
      ],
      "metadata": {
        "id": "reO_yBd9kw-7"
      }
    },
    {
      "cell_type": "code",
      "source": [
        "%%file 1_sphere4.pov\n",
        "//  1_sphere4.pov\n",
        "  \n",
        "camera{ \n",
        "  location <0.0, 0.0, -10.0> \n",
        "  look_at  <0.0, 0.0, 0.0>\n",
        "} \n",
        "\n",
        "light_source { \n",
        "  <0.0,3.0,-3.0> \n",
        "  color rgb <1.0, 1.0, 1.0>*5\n",
        "} \n",
        "\n",
        "sphere { \n",
        "  <0.0, 0.0 ,0.0>, 2.0 \n",
        "  pigment { rgbt <1.0, 0.0, 0.0, 0.7> }\n",
        "}    \n",
        "\n",
        "sphere { \n",
        "  <-3.0, 0.0 ,0.0>, 2.0  \n",
        "  pigment { rgbt <0.0, 1.0, 0.0, 0.7> }\n",
        "} \n",
        "\n",
        "sphere { \n",
        "  <3.0, 0.0 ,0.0>, 2.0  \n",
        "  pigment { rgbt <0.0, 0.0, 1.0, 0.7> }\n",
        "} "
      ],
      "metadata": {
        "colab": {
          "base_uri": "https://localhost:8080/"
        },
        "id": "DJIzb9i4kzFN",
        "outputId": "650d872b-bca5-48bd-a753-4954967b1006"
      },
      "execution_count": 15,
      "outputs": [
        {
          "output_type": "stream",
          "name": "stdout",
          "text": [
            "Writing 1_sphere4.pov\n"
          ]
        }
      ]
    },
    {
      "cell_type": "code",
      "source": [
        "!povray 1_sphere4.pov +Q11 +A +FN +H240 +W320 &> /dev/null"
      ],
      "metadata": {
        "id": "0AYL6de6ky7P"
      },
      "execution_count": 16,
      "outputs": []
    },
    {
      "cell_type": "code",
      "source": [
        "pshow('1_sphere4.png')"
      ],
      "metadata": {
        "colab": {
          "base_uri": "https://localhost:8080/",
          "height": 269
        },
        "id": "cbzfTQCDkx_U",
        "outputId": "5ea411fd-578a-4471-fb0d-9be19fc13091"
      },
      "execution_count": 17,
      "outputs": [
        {
          "output_type": "display_data",
          "data": {
            "text/plain": [
              "<Figure size 432x288 with 1 Axes>"
            ],
            "image/png": "[encoded data removed]"
          },
          "metadata": {
            "needs_background": "light"
          }
        }
      ]
    },
    {
      "cell_type": "markdown",
      "source": [
        "\n",
        "\n",
        "---\n",
        "\n"
      ],
      "metadata": {
        "id": "nV8EoYRelFxk"
      }
    },
    {
      "cell_type": "code",
      "source": [
        "%%file 1_sphere5.pov\n",
        "//  1_sphere5.pov\n",
        "  \n",
        "camera{ \n",
        "  location <0.0, 0.0, -10.0> \n",
        "  look_at  <0.0, 0.0, 0.0>\n",
        "} \n",
        "\n",
        "light_source { \n",
        "  <5.0,5.0,-5.0> \n",
        "  color rgb <1.0, 1.0, 1.0>\n",
        "} \n",
        "             \n",
        "object {\n",
        "  sphere { \n",
        "    <0.0, 0.0 ,0.0>, 2.0 \n",
        "    pigment { rgb <0.0, 1.0, 0.0> }\n",
        "  }       \n",
        "}"
      ],
      "metadata": {
        "colab": {
          "base_uri": "https://localhost:8080/"
        },
        "id": "i4nn1FPllIpt",
        "outputId": "6e49ed6a-f393-4c58-9487-f9d8feb7fbad"
      },
      "execution_count": 18,
      "outputs": [
        {
          "output_type": "stream",
          "name": "stdout",
          "text": [
            "Writing 1_sphere5.pov\n"
          ]
        }
      ]
    },
    {
      "cell_type": "code",
      "source": [
        "!povray 1_sphere5.pov +Q11 +A +FN +H240 +W320 &> /dev/null"
      ],
      "metadata": {
        "id": "YoGZ0R-flIau"
      },
      "execution_count": 19,
      "outputs": []
    },
    {
      "cell_type": "code",
      "source": [
        "pshow('1_sphere5.png')"
      ],
      "metadata": {
        "colab": {
          "base_uri": "https://localhost:8080/",
          "height": 269
        },
        "id": "tWZmB8NqlHT8",
        "outputId": "50022722-1565-44ff-ea45-8c3fb532f0f5"
      },
      "execution_count": 20,
      "outputs": [
        {
          "output_type": "display_data",
          "data": {
            "text/plain": [
              "<Figure size 432x288 with 1 Axes>"
            ],
            "image/png": "[encoded data removed]"
          },
          "metadata": {
            "needs_background": "light"
          }
        }
      ]
    },
    {
      "cell_type": "markdown",
      "source": [
        "\n",
        "\n",
        "---\n",
        "\n"
      ],
      "metadata": {
        "id": "H4lJXz9yBqph"
      }
    },
    {
      "cell_type": "code",
      "source": [
        "%%file 1_example.pov\n",
        "//  1_example.pov\n",
        "  \n",
        "camera{ \n",
        "  location <0.0, 0.0, -10.0> \n",
        "  look_at  <0.0, 0.0, 0.0>  \n",
        "  right x * image_width / image_height \n",
        "} \n",
        "\n",
        "light_source { \n",
        "  <5.0,5.0,-5.0> \n",
        "  color rgb <1.0, 1.0, 1.0>\n",
        "} \n",
        "\n",
        " \n",
        "sphere { \n",
        "  <0.0, 0.0 ,0.0>, 0.5 \n",
        "  pigment { rgb <1.0, 0.0, 0.0> }\n",
        "}\n",
        "                       \n",
        "                         \n",
        "sphere { \n",
        "  <-2.0, 0.0 ,0.0>, 1.0 \n",
        "  pigment { rgb <1.0, 1.0, 0.0> }\n",
        "}\n",
        "\n",
        "\n",
        "sphere { \n",
        "  <2.0, 2.0 ,0.0>, 1.0 \n",
        "  pigment { rgb <1.0, 1.0, 1.0> }\n",
        "}"
      ],
      "metadata": {
        "colab": {
          "base_uri": "https://localhost:8080/"
        },
        "id": "r05tNqq9BrQ6",
        "outputId": "6616a8d6-e11a-4cbd-e3a8-8bc438d65cc4"
      },
      "execution_count": 21,
      "outputs": [
        {
          "output_type": "stream",
          "name": "stdout",
          "text": [
            "Writing 1_example.pov\n"
          ]
        }
      ]
    },
    {
      "cell_type": "code",
      "source": [
        "!povray 1_example.pov +Q11 +A +FN +H240 +W320 &> /dev/null"
      ],
      "metadata": {
        "id": "frDTVNpIBrFM"
      },
      "execution_count": 22,
      "outputs": []
    },
    {
      "cell_type": "code",
      "source": [
        "pshow('1_example.png')"
      ],
      "metadata": {
        "colab": {
          "base_uri": "https://localhost:8080/",
          "height": 269
        },
        "id": "VK1iGohcBrCs",
        "outputId": "16cb32c1-ae04-47f2-db80-94501bbdce07"
      },
      "execution_count": 23,
      "outputs": [
        {
          "output_type": "display_data",
          "data": {
            "text/plain": [
              "<Figure size 432x288 with 1 Axes>"
            ],
            "image/png": "[encoded data removed]"
          },
          "metadata": {
            "needs_background": "light"
          }
        }
      ]
    },
    {
      "cell_type": "markdown",
      "source": [
        "\n",
        "\n",
        "---\n",
        "\n",
        "### 10/2022"
      ],
      "metadata": {
        "id": "qjhyf3HuUW96"
      }
    }
  ]
}